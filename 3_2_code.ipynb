{
 "cells": [
  {
   "cell_type": "markdown",
   "id": "c23dbfae-70bf-4759-845f-c382cf49ae78",
   "metadata": {
    "origin_pos": 0,
    "tags": []
   },
   "source": [
    "# Concise Implementation of Linear Regression\n",
    "\n",
    "\n",
    "## Generating the Dataset"
   ]
  },
  {
   "cell_type": "code",
   "execution_count": 1,
   "id": "b338ff31-a984-4161-a5d5-f7127544b9c7",
   "metadata": {
    "origin_pos": 2,
    "tab": [
     "pytorch"
    ]
   },
   "outputs": [],
   "source": [
    "import numpy as np\n",
    "import torch\n",
    "from torch.utils import data\n",
    "from d2l import torch as d2l"
   ]
  },
  {
   "cell_type": "code",
   "execution_count": 2,
   "id": "f65fdb59-2439-46cb-b9e4-70d335a678fd",
   "metadata": {},
   "outputs": [],
   "source": [
    "true_w = torch.tensor([2, -3.4])\n",
    "true_b = 4.2\n",
    "features, labels = d2l.synthetic_data(true_w, true_b, 1000)"
   ]
  },
  {
   "cell_type": "markdown",
   "id": "50e38336-5d20-4692-8299-43688ed7f1ae",
   "metadata": {
    "origin_pos": 5
   },
   "source": [
    "## Reading the Dataset\n",
    "\n",
    "call upon the existing API in a framework to read data\n"
   ]
  },
  {
   "cell_type": "code",
   "execution_count": 3,
   "id": "108974e4-f6ae-44d8-8fd2-e33e0d362d38",
   "metadata": {
    "origin_pos": 7,
    "tab": [
     "pytorch"
    ]
   },
   "outputs": [],
   "source": [
    "def load_array(data_arrays, batch_size, is_train=True):  #@save\n",
    "    \"\"\"Construct a PyTorch data iterator.\"\"\"\n",
    "    dataset = data.TensorDataset(*data_arrays)\n",
    "    return data.DataLoader(dataset, batch_size, shuffle=is_train)\n",
    "\n",
    "batch_size = 10\n",
    "data_iter = load_array((features, labels), batch_size)"
   ]
  },
  {
   "cell_type": "markdown",
   "id": "edcab363-1c05-4ec6-8be6-2b67b474633b",
   "metadata": {
    "origin_pos": 12,
    "tags": []
   },
   "source": [
    "## Defining the Model"
   ]
  },
  {
   "cell_type": "code",
   "execution_count": 4,
   "id": "5c3fea12-ee93-402d-8d9c-08374daa6370",
   "metadata": {
    "origin_pos": 17,
    "tab": [
     "pytorch"
    ]
   },
   "outputs": [],
   "source": [
    "from torch import nn\n",
    "\n",
    "# input feature dimension: 2, output is 1\n",
    "net = nn.Sequential(nn.Linear(2, 1))\n",
    "net[0].weight.data.normal_(0, 0.01) # mean 0, std 0.01\n",
    "net[0].bias.data.fill_(0)\n",
    "\n",
    "# define loss function \n",
    "loss = nn.MSELoss()\n",
    "# define optimsaiton function, first specify optimsed parameters\n",
    "trainer = torch.optim.SGD(net.parameters(), lr=0.03) "
   ]
  },
  {
   "cell_type": "code",
   "execution_count": 5,
   "id": "798f0430-0f2c-4ac7-96f8-445f7d9c095b",
   "metadata": {
    "origin_pos": 45,
    "tab": [
     "pytorch"
    ]
   },
   "outputs": [
    {
     "name": "stdout",
     "output_type": "stream",
     "text": [
      "epoch 1, loss 0.000273\n",
      "epoch 2, loss 0.000094\n",
      "epoch 3, loss 0.000096\n"
     ]
    }
   ],
   "source": [
    "## Training\n",
    "num_epochs = 3\n",
    "for epoch in range(num_epochs):\n",
    "    for X, y in data_iter:\n",
    "        l = loss(net(X), y) # compute loss\n",
    "        trainer.zero_grad()\n",
    "        l.backward()        # gradients by backprop\n",
    "        trainer.step()      # update model parameter\n",
    "    l = loss(net(features), labels)\n",
    "    print(f'epoch {epoch + 1}, loss {l:f}')"
   ]
  },
  {
   "cell_type": "code",
   "execution_count": 6,
   "id": "730380d8-5ec6-444e-9b6f-ad18840962fc",
   "metadata": {
    "origin_pos": 49,
    "tab": [
     "pytorch"
    ]
   },
   "outputs": [
    {
     "name": "stdout",
     "output_type": "stream",
     "text": [
      "error in estimating w: tensor([-0.0015, -0.0008])\n",
      "error in estimating b: tensor([-7.4387e-05])\n"
     ]
    }
   ],
   "source": [
    "w = net[0].weight.data\n",
    "print('error in estimating w:', true_w - w.reshape(true_w.shape))\n",
    "b = net[0].bias.data\n",
    "print('error in estimating b:', true_b - b)"
   ]
  }
 ],
 "metadata": {
  "kernelspec": {
   "display_name": "Python 3 (ipykernel)",
   "language": "python",
   "name": "python3"
  },
  "language_info": {
   "codemirror_mode": {
    "name": "ipython",
    "version": 3
   },
   "file_extension": ".py",
   "mimetype": "text/x-python",
   "name": "python",
   "nbconvert_exporter": "python",
   "pygments_lexer": "ipython3",
   "version": "3.9.6"
  }
 },
 "nbformat": 4,
 "nbformat_minor": 5
}
