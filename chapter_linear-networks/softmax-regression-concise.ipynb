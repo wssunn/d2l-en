{
 "cells": [
  {
   "cell_type": "markdown",
   "metadata": {
    "origin_pos": 0
   },
   "source": [
    "# Concise Implementation of Softmax Regression\n",
    ":label:`sec_softmax_concise`\n",
    "\n",
    "\n",
    "\n",
    "(**Just as high-level APIs**)\n",
    "of deep learning frameworks\n",
    "(**made it much easier to implement linear regression**)\n",
    "in :numref:`sec_linear_concise`,\n",
    "(**we will find it similarly**) (~~here~~) (or possibly more)\n",
    "convenient for implementing classification models. Let us stick with the Fashion-MNIST dataset\n",
    "and keep the batch size at 256 as in :numref:`sec_softmax_scratch`.\n"
   ]
  },
  {
   "cell_type": "code",
   "execution_count": null,
   "metadata": {
    "origin_pos": 2,
    "tab": [
     "pytorch"
    ]
   },
   "outputs": [],
   "source": [
    "import torch\n",
    "from torch import nn\n",
    "from d2l import torch as d2l"
   ]
  },
  {
   "cell_type": "code",
   "execution_count": null,
   "metadata": {
    "origin_pos": 4,
    "tab": [
     "pytorch"
    ]
   },
   "outputs": [],
   "source": [
    "batch_size = 256\n",
    "train_iter, test_iter = d2l.load_data_fashion_mnist(batch_size)"
   ]
  },
  {
   "cell_type": "markdown",
   "metadata": {
    "origin_pos": 5
   },
   "source": [
    "## Initializing Model Parameters\n",
    "\n",
    "As mentioned in :numref:`sec_softmax`,\n",
    "[**the output layer of softmax regression\n",
    "is a fully-connected layer.**]\n",
    "Therefore, to implement our model,\n",
    "we just need to add one fully-connected layer\n",
    "with 10 outputs to our `Sequential`.\n",
    "Again, here, the `Sequential` is not really necessary,\n",
    "but we might as well form the habit since it will be ubiquitous\n",
    "when implementing deep models.\n",
    "Again, we initialize the weights at random\n",
    "with zero mean and standard deviation 0.01.\n"
   ]
  },
  {
   "cell_type": "code",
   "execution_count": null,
   "metadata": {
    "origin_pos": 7,
    "tab": [
     "pytorch"
    ]
   },
   "outputs": [],
   "source": [
    "# PyTorch does not implicitly reshape the inputs. Thus we define the flatten\n",
    "# layer to reshape the inputs before the linear layer in our network\n",
    "net = nn.Sequential(nn.Flatten(), nn.Linear(784, 10))\n",
    "\n",
    "def init_weights(m):\n",
    "    if type(m) == nn.Linear:\n",
    "        nn.init.normal_(m.weight, std=0.01)\n",
    "\n",
    "net.apply(init_weights);"
   ]
  },
  {
   "cell_type": "markdown",
   "metadata": {
    "origin_pos": 9
   },
   "source": [
    "## Softmax Implementation Revisited\n",
    ":label:`subsec_softmax-implementation-revisited`\n",
    "\n",
    "In the previous example of :numref:`sec_softmax_scratch`,\n",
    "we calculated our model's output\n",
    "and then ran this output through the cross-entropy loss.\n",
    "Mathematically, that is a perfectly reasonable thing to do.\n",
    "However, from a computational perspective,\n",
    "exponentiation can be a source of numerical stability issues.\n",
    "\n",
    "Recall that the softmax function calculates\n",
    "$\\hat y_j = \\frac{\\exp(o_j)}{\\sum_k \\exp(o_k)}$,\n",
    "where $\\hat y_j$ is the $j^\\mathrm{th}$ element of\n",
    "the predicted probability distribution $\\hat{\\mathbf{y}}$\n",
    "and $o_j$ is the $j^\\mathrm{th}$ element of the logits\n",
    "$\\mathbf{o}$.\n",
    "If some of the $o_k$ are very large (i.e., very positive),\n",
    "then $\\exp(o_k)$ might be larger than the largest number\n",
    "we can have for certain data types (i.e., *overflow*).\n",
    "This would make the denominator (and/or numerator) `inf` (infinity)\n",
    "and we wind up encountering either 0, `inf`, or `nan` (not a number) for $\\hat y_j$.\n",
    "In these situations we do not get a well-defined\n",
    "return value for cross-entropy.\n",
    "\n",
    "\n",
    "One trick to get around this is to first subtract $\\max(o_k)$\n",
    "from all $o_k$ before proceeding with the softmax calculation.\n",
    "You can see that this shifting of each $o_k$ by constant factor\n",
    "does not change the return value of softmax:\n",
    "\n",
    "$$\n",
    "\\begin{aligned}\n",
    "\\hat y_j & =  \\frac{\\exp(o_j - \\max(o_k))\\exp(\\max(o_k))}{\\sum_k \\exp(o_k - \\max(o_k))\\exp(\\max(o_k))} \\\\\n",
    "& = \\frac{\\exp(o_j - \\max(o_k))}{\\sum_k \\exp(o_k - \\max(o_k))}.\n",
    "\\end{aligned}\n",
    "$$\n",
    "\n",
    "\n",
    "After the subtraction and normalization step,\n",
    "it might be possible that some $o_j - \\max(o_k)$ have large negative values\n",
    "and thus that the corresponding $\\exp(o_j - \\max(o_k))$ will take values close to zero.\n",
    "These might be rounded to zero due to finite precision (i.e., *underflow*),\n",
    "making $\\hat y_j$ zero and giving us `-inf` for $\\log(\\hat y_j)$.\n",
    "A few steps down the road in backpropagation,\n",
    "we might find ourselves faced with a screenful\n",
    "of the dreaded `nan` results.\n",
    "\n",
    "Fortunately, we are saved by the fact that\n",
    "even though we are computing exponential functions,\n",
    "we ultimately intend to take their log\n",
    "(when calculating the cross-entropy loss).\n",
    "By combining these two operators\n",
    "softmax and cross-entropy together,\n",
    "we can escape the numerical stability issues\n",
    "that might otherwise plague us during backpropagation.\n",
    "As shown in the equation below, we avoid calculating $\\exp(o_j - \\max(o_k))$\n",
    "and can use instead $o_j - \\max(o_k)$ directly due to the canceling in $\\log(\\exp(\\cdot))$:\n",
    "\n",
    "$$\n",
    "\\begin{aligned}\n",
    "\\log{(\\hat y_j)} & = \\log\\left( \\frac{\\exp(o_j - \\max(o_k))}{\\sum_k \\exp(o_k - \\max(o_k))}\\right) \\\\\n",
    "& = \\log{(\\exp(o_j - \\max(o_k)))}-\\log{\\left( \\sum_k \\exp(o_k - \\max(o_k)) \\right)} \\\\\n",
    "& = o_j - \\max(o_k) -\\log{\\left( \\sum_k \\exp(o_k - \\max(o_k)) \\right)}.\n",
    "\\end{aligned}\n",
    "$$\n",
    "\n",
    "We will want to keep the conventional softmax function handy\n",
    "in case we ever want to evaluate the output probabilities by our model.\n",
    "But instead of passing softmax probabilities into our new loss function,\n",
    "we will just\n",
    "[**pass the logits and compute the softmax and its log\n",
    "all at once inside the cross-entropy loss function,**]\n",
    "which does smart things like the [\"LogSumExp trick\"](https://en.wikipedia.org/wiki/LogSumExp).\n"
   ]
  },
  {
   "cell_type": "code",
   "execution_count": null,
   "metadata": {
    "origin_pos": 11,
    "tab": [
     "pytorch"
    ]
   },
   "outputs": [],
   "source": [
    "loss = nn.CrossEntropyLoss()"
   ]
  },
  {
   "cell_type": "markdown",
   "metadata": {
    "origin_pos": 13
   },
   "source": [
    "## Optimization Algorithm\n",
    "\n",
    "Here, we (**use minibatch stochastic gradient descent**)\n",
    "with a learning rate of 0.1 as the optimization algorithm.\n",
    "Note that this is the same as we applied in the linear regression example\n",
    "and it illustrates the general applicability of the optimizers.\n"
   ]
  },
  {
   "cell_type": "code",
   "execution_count": null,
   "metadata": {
    "origin_pos": 15,
    "tab": [
     "pytorch"
    ]
   },
   "outputs": [],
   "source": [
    "trainer = torch.optim.SGD(net.parameters(), lr=0.1)"
   ]
  },
  {
   "cell_type": "markdown",
   "metadata": {
    "origin_pos": 17
   },
   "source": [
    "## Training\n",
    "\n",
    "Next we [**call the training function defined**] (~~earlier~~) in :numref:`sec_softmax_scratch` to train the model.\n"
   ]
  },
  {
   "cell_type": "code",
   "execution_count": null,
   "metadata": {
    "origin_pos": 18,
    "tab": [
     "pytorch"
    ]
   },
   "outputs": [],
   "source": [
    "num_epochs = 10\n",
    "d2l.train_ch3(net, train_iter, test_iter, loss, num_epochs, trainer)"
   ]
  },
  {
   "cell_type": "markdown",
   "metadata": {
    "jp-MarkdownHeadingCollapsed": true,
    "origin_pos": 19,
    "tags": []
   },
   "source": [
    "As before, this algorithm converges to a solution\n",
    "that achieves a decent accuracy,\n",
    "albeit this time with fewer lines of code than before.\n",
    "\n",
    "\n",
    "## Summary\n",
    "\n",
    "* Using high-level APIs, we can implement softmax regression much more concisely.\n",
    "* From a computational perspective, implementing softmax regression has intricacies. Note that in many cases, a deep learning framework takes additional precautions beyond these most well-known tricks to ensure numerical stability, saving us from even more pitfalls that we would encounter if we tried to code all of our models from scratch in practice.\n",
    "\n",
    "## Exercises\n",
    "\n",
    "1. Try adjusting the hyperparameters, such as the batch size, number of epochs, and learning rate, to see what the results are.\n",
    "1. Increase the number of epochs for training. Why might the test accuracy decrease after a while? How could we fix this?\n"
   ]
  },
  {
   "cell_type": "markdown",
   "metadata": {
    "origin_pos": 21,
    "tab": [
     "pytorch"
    ]
   },
   "source": [
    "[Discussions](https://discuss.d2l.ai/t/53)\n"
   ]
  }
 ],
 "metadata": {
  "kernelspec": {
   "display_name": "Python 3 (ipykernel)",
   "language": "python",
   "name": "python3"
  },
  "language_info": {
   "codemirror_mode": {
    "name": "ipython",
    "version": 3
   },
   "file_extension": ".py",
   "mimetype": "text/x-python",
   "name": "python",
   "nbconvert_exporter": "python",
   "pygments_lexer": "ipython3",
   "version": "3.9.6"
  }
 },
 "nbformat": 4,
 "nbformat_minor": 4
}
