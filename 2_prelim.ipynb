{
 "cells": [
  {
   "cell_type": "markdown",
   "id": "eda29aae-bc57-472b-bef9-78b69f73d6ac",
   "metadata": {},
   "source": [
    "## Numpy array"
   ]
  },
  {
   "cell_type": "code",
   "execution_count": 1,
   "id": "bbce75df-8409-4d54-91b1-44f693fae8df",
   "metadata": {},
   "outputs": [],
   "source": [
    "import torch"
   ]
  },
  {
   "cell_type": "code",
   "execution_count": null,
   "id": "e3e7c03d-2ae6-4ed3-b9b4-85066868539f",
   "metadata": {},
   "outputs": [],
   "source": [
    "x.shape\n",
    "x.numel()\n",
    "\n",
    "torch.arange(12, dtype=torch.float32)\n",
    "torch.zeros((2, 3, 4))\n",
    "torch.ones((2, 3, 4))\n",
    "torch.randn(3, 4)\n",
    "torch.zeros_like(Y)\n",
    "\n",
    "# operations\n",
    "torch.exp(x)\n",
    "torch.cat((X, Y), dim=0)\n",
    "\n",
    "## inplace operation\n",
    "X += Y\n",
    "X[:] = X + Y\n",
    "\n",
    "\n",
    "## reshape\n",
    "A = torch.arange(20).reshape(5, 4) # matrix\n",
    "X = torch.arange(24).reshape(2, 3, 4) # tensor\n",
    "\n",
    "# Conversion to Other Python Objects\n",
    "A = X.numpy()\n",
    "B = torch.tensor(A)\n",
    "\n",
    "# assign new memory\n",
    "B = A.clone()\n",
    "\n",
    "# reduction\n",
    "x.sum() # total sum of all elements, torch.Size([])\n",
    "A.sum(axis=0) # sum over an axis, torch.Size([4])\n",
    "A.sum(axis=0, keepdims=True) # keep original dimension, torch.Size([1, 4])\n",
    "A / A.sum(axis=1, keepdims=True) # row average\n",
    "\n",
    "\n",
    "torch.dot(x, y) # vector dot\n",
    "torch.mv(A, x)  # matrix vector multiplication\n",
    "torch.mm(A, B)  # matrix matrix multiplication\n",
    "torch.norm(u)   # L2 norm"
   ]
  },
  {
   "cell_type": "markdown",
   "id": "4dd63539-66b3-4336-b215-8594c37ca19e",
   "metadata": {},
   "source": [
    "## Pandas"
   ]
  },
  {
   "cell_type": "code",
   "execution_count": 2,
   "id": "c687597e-124f-432d-b858-75119f3f05c1",
   "metadata": {
    "origin_pos": 1,
    "tab": [
     "pytorch"
    ]
   },
   "outputs": [],
   "source": [
    "import os\n",
    "\n",
    "os.makedirs(os.path.join('data'), exist_ok=True)\n",
    "data_file = os.path.join('data', 'house_tiny.csv')\n",
    "with open(data_file, 'w') as f:\n",
    "    f.write('NumRooms,Alley,Price\\n')  # Column names\n",
    "    f.write('NA,Pave,127500\\n')  # Each row represents a data example\n",
    "    f.write('2,NA,106000\\n')\n",
    "    f.write('4,NA,178100\\n')\n",
    "    f.write('NA,NA,140000\\n')"
   ]
  },
  {
   "cell_type": "code",
   "execution_count": 9,
   "id": "3dfbd967-fd86-41c7-bcf1-7b0cef18e3c0",
   "metadata": {},
   "outputs": [],
   "source": [
    "import pandas as pd\n",
    "\n",
    "data = pd.read_csv(data_file)\n",
    "inputs = data.fillna(data.mean())\n",
    "inputs = pd.get_dummies(inputs, dummy_na=True)\n",
    "X = torch.tensor(inputs.values)"
   ]
  },
  {
   "cell_type": "markdown",
   "id": "4087e4ec-06ac-4828-8cfe-6023343b55aa",
   "metadata": {},
   "source": [
    "## Automatic Differentiation "
   ]
  },
  {
   "cell_type": "code",
   "execution_count": 9,
   "id": "6eeab11b-db46-4c8e-b329-a94b1efd18e0",
   "metadata": {},
   "outputs": [],
   "source": [
    "import torch\n",
    "\n",
    "x = torch.arange(4.0, requires_grad=True)\n",
    "x.grad  # The default value is None"
   ]
  },
  {
   "cell_type": "code",
   "execution_count": 10,
   "id": "e4a8cb4d-f3e3-4385-a51e-159ab2307398",
   "metadata": {},
   "outputs": [
    {
     "data": {
      "text/plain": [
       "tensor(14., grad_fn=<DotBackward>)"
      ]
     },
     "execution_count": 10,
     "metadata": {},
     "output_type": "execute_result"
    }
   ],
   "source": [
    "y = torch.dot(x, x)\n",
    "y"
   ]
  },
  {
   "cell_type": "code",
   "execution_count": 11,
   "id": "7be4c53e-7950-4ce1-9156-685e45f5a42d",
   "metadata": {},
   "outputs": [
    {
     "data": {
      "text/plain": [
       "tensor([0., 2., 4., 6.])"
      ]
     },
     "execution_count": 11,
     "metadata": {},
     "output_type": "execute_result"
    }
   ],
   "source": [
    "y.backward()\n",
    "x.grad"
   ]
  },
  {
   "cell_type": "markdown",
   "id": "8d45ec9e-8759-4ff9-a693-c606ba0d358c",
   "metadata": {},
   "source": [
    "### Non-scalar "
   ]
  },
  {
   "cell_type": "code",
   "execution_count": 15,
   "id": "df9a0f75-c826-42f5-a57d-f04ff5ab9d06",
   "metadata": {},
   "outputs": [
    {
     "data": {
      "text/plain": [
       "tensor([0., 2., 4., 6.])"
      ]
     },
     "execution_count": 15,
     "metadata": {},
     "output_type": "execute_result"
    }
   ],
   "source": [
    "x.grad.zero_()\n",
    "# Invoking `backward` on a non-scalar requires passing in a `gradient` argument\n",
    "# which specifies the gradient of the differentiated function w.r.t `self`.\n",
    "y = x * x\n",
    "\n",
    "# In our case, we simply want to sum the partial derivatives, so passing\n",
    "# in a gradient of ones is appropriate\n",
    "# y.backward(torch.ones(len(x)))\n",
    "y.sum().backward()\n",
    "x.grad"
   ]
  },
  {
   "cell_type": "markdown",
   "id": "b01426e7-c804-4431-a6e3-eca08b7e4837",
   "metadata": {},
   "source": [
    "### Detaching Computation\n",
    "\n",
    "For example, say that `y` was calculated as a function of `x`,\n",
    "and that subsequently `z` was calculated as a function of both `y` and `x`.\n",
    "Now, imagine that we wanted to calculate\n",
    "the gradient of `z` with respect to `x`,\n",
    "but wanted for some reason to treat `y` as a constant,\n",
    "and only take into account the role\n",
    "that `x` played after `y` was calculated.\n",
    "\n",
    "Here, we can detach `y` to return a new variable `u`\n",
    "that has the same value as `y` but discards any information\n",
    "about how `y` was computed in the computational graph.\n",
    "Thus, the following backpropagation function computes\n",
    "the partial derivative of `z = u * x` with respect to `x` while treating `u` as a constant,\n",
    "instead of the partial derivative of `z = x * x * x` with respect to `x`."
   ]
  },
  {
   "cell_type": "code",
   "execution_count": 16,
   "id": "e880b2c3-b52d-47d5-8baa-dad24b79ef5a",
   "metadata": {},
   "outputs": [
    {
     "data": {
      "text/plain": [
       "tensor([True, True, True, True])"
      ]
     },
     "execution_count": 16,
     "metadata": {},
     "output_type": "execute_result"
    }
   ],
   "source": [
    "x.grad.zero_()\n",
    "y = x * x\n",
    "u = y.detach()\n",
    "z = u * x\n",
    "\n",
    "z.sum().backward()\n",
    "x.grad == u"
   ]
  },
  {
   "cell_type": "code",
   "execution_count": null,
   "id": "7be227fc-a606-4395-9cca-1a7cddfaf294",
   "metadata": {},
   "outputs": [],
   "source": []
  }
 ],
 "metadata": {
  "kernelspec": {
   "display_name": "Python 3",
   "language": "python",
   "name": "python3"
  },
  "language_info": {
   "codemirror_mode": {
    "name": "ipython",
    "version": 3
   },
   "file_extension": ".py",
   "mimetype": "text/x-python",
   "name": "python",
   "nbconvert_exporter": "python",
   "pygments_lexer": "ipython3",
   "version": "3.8.8"
  }
 },
 "nbformat": 4,
 "nbformat_minor": 5
}
